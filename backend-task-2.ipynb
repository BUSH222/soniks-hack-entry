{
 "cells": [
  {
   "cell_type": "markdown",
   "metadata": {},
   "source": [
    "# Cымитируем работу наземной станции – загрузим в СОНИКС фотографию от лица наземной станции.\n",
    "\n",
    "> Чтобы протестировать этот код, добавьте `apikey = ваш_ключ_api` в файл .env"
   ]
  },
  {
   "cell_type": "code",
   "execution_count": 11,
   "metadata": {},
   "outputs": [
    {
     "name": "stdout",
     "output_type": "stream",
     "text": [
      "Status: 201\n",
      "Response Text: \"OK!\"\n"
     ]
    }
   ],
   "source": [
    "import requests\n",
    "from dotenv import load_dotenv\n",
    "import os\n",
    "\n",
    "url = \"https://dev.sonik.space/api/demoddata/?format=json\"\n",
    "\n",
    "load_dotenv()\n",
    "\n",
    "apikey = os.getenv(\"apikey\")\n",
    "\n",
    "headers = {\n",
    "    \"Authorization\": f\"Token {apikey}\",\n",
    "    \"Cookie\": \"csrftoken=rsxFKr3j0pdN6J7KVcycTIHY6Ee2slTuILs7IFEfgZLZBxzrDZCi0d8V0tSATLfw\"\n",
    "}\n",
    "\n",
    "data = {\n",
    "    \"noradID\": \"57172\",\n",
    "    \"latitude\": \"55.7558\",\n",
    "    \"longitude\": \"37.6173\",\n",
    "    \"source\": \"misis-leaf-lovers\",\n",
    "    \"timestamp\": \"1978-01-01 00:00:00Z\"\n",
    "}\n",
    "\n",
    "with open(\"image.png\", \"rb\") as f:\n",
    "    data['frame'] = f.read()\n",
    "\n",
    "\n",
    "response = requests.post(url, headers=headers, data=data)\n",
    "\n",
    "print(f\"Status: {response.status_code}\")\n",
    "print(f\"Response Text: {response.text}\")"
   ]
  },
  {
   "cell_type": "markdown",
   "metadata": {},
   "source": [
    "Проверить загрузку данных можно [тут](https://dev.sonik.space/api/demoddata/?observer=&transmitter=&is_decoded=&id=&satellite=57172&sat_id=&observation_id=&station_id=&start=&end=1980-01-01)"
   ]
  }
 ],
 "metadata": {
  "kernelspec": {
   "display_name": "Python 3",
   "language": "python",
   "name": "python3"
  },
  "language_info": {
   "codemirror_mode": {
    "name": "ipython",
    "version": 3
   },
   "file_extension": ".py",
   "mimetype": "text/x-python",
   "name": "python",
   "nbconvert_exporter": "python",
   "pygments_lexer": "ipython3",
   "version": "3.12.6"
  }
 },
 "nbformat": 4,
 "nbformat_minor": 2
}
