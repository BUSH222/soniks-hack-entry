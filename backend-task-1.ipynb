{
 "cells": [
  {
   "cell_type": "code",
   "execution_count": 11,
   "metadata": {},
   "outputs": [],
   "source": [
    "import requests"
   ]
  },
  {
   "cell_type": "markdown",
   "metadata": {},
   "source": [
    "# Найти спутник с максимальным количеством передатчиков"
   ]
  },
  {
   "cell_type": "code",
   "execution_count": 12,
   "metadata": {},
   "outputs": [],
   "source": [
    "sat_transmitters = dict()\n",
    "page = 1\n",
    "transmitters = requests.get(f'https://sonik.space/api/transmitters/?page={page}').json()\n",
    "while isinstance(transmitters, list):\n",
    "    for item in transmitters:\n",
    "        key = f\"{item['satellite_name']}/{item['satellite_norad']}\"\n",
    "        if key not in sat_transmitters.keys():\n",
    "            sat_transmitters[key] = 1\n",
    "        else:\n",
    "            sat_transmitters[key] += 1\n",
    "    page += 1\n",
    "    transmitters = requests.get(f'https://sonik.space/api/transmitters/?page={page}').json()"
   ]
  },
  {
   "cell_type": "code",
   "execution_count": 13,
   "metadata": {},
   "outputs": [
    {
     "name": "stdout",
     "output_type": "stream",
     "text": [
      "Спутник с максимальным количеством передатчиков: ISS; NORAD ID 25544\n",
      "Количество передатчиков: 40\n"
     ]
    }
   ],
   "source": [
    "satellite, max_transmitters = max(sat_transmitters.items(), key=lambda x: x[1])\n",
    "sat_name, sat_norad = satellite.rsplit('/', 1)\n",
    "print(f'Спутник с максимальным количеством передатчиков: {sat_name}; NORAD ID {sat_norad}')\n",
    "print(f'Количество передатчиков: {max_transmitters}')"
   ]
  },
  {
   "cell_type": "markdown",
   "metadata": {},
   "source": [
    "# У найденного спутника найти передатчик, у которого больше всего (в процентном соотношении) успешных наблюдений."
   ]
  },
  {
   "cell_type": "code",
   "execution_count": 14,
   "metadata": {},
   "outputs": [],
   "source": [
    "sat_transmitters = dict()\n",
    "page = 1\n",
    "transmitters = requests.get(f'https://sonik.space/api/transmitters/?page={page}&satellite__norad_cat_id={sat_norad}').json()\n",
    "while isinstance(transmitters, list):\n",
    "    for item in transmitters:\n",
    "        key = item['description']\n",
    "        if 'stat' in item.keys():\n",
    "            success_count = item['stat']['good_count']\n",
    "            total_count = item['stat']['total_count']\n",
    "        else:\n",
    "            success_count, total_count = 0, 0\n",
    "        if total_count == 0:\n",
    "            percentage = 0\n",
    "        else:\n",
    "            percentage = round(success_count / total_count, 4)*100\n",
    "\n",
    "        sat_transmitters[key] = percentage\n",
    "\n",
    "    page += 1\n",
    "    transmitters = requests.get(f'https://sonik.space/api/transmitters/?page={page}&satellite__norad_cat_id={sat_norad}').json()"
   ]
  },
  {
   "cell_type": "code",
   "execution_count": 15,
   "metadata": {},
   "outputs": [
    {
     "name": "stdout",
     "output_type": "stream",
     "text": [
      "Передатчик с максимальным процентом успешных наблюдений: Mode V/U FM - Voice Repeater. Процент успешных наблюдений: 75.76\n"
     ]
    }
   ],
   "source": [
    "transmitter, percentage = max(sat_transmitters.items(), key=lambda x: x[1])\n",
    "print(f'Передатчик с максимальным процентом успешных наблюдений: {transmitter}. Процент успешных наблюдений: {percentage}')"
   ]
  },
  {
   "cell_type": "markdown",
   "metadata": {},
   "source": [
    "# Выведем информацию о найденном спутнике и найденном передатчике в стандартный поток ввода/вывода."
   ]
  },
  {
   "cell_type": "code",
   "execution_count": 18,
   "metadata": {},
   "outputs": [
    {
     "name": "stdout",
     "output_type": "stream",
     "text": [
      "Satellite ID: XSKZ-5603-1870-9019-3066\n",
      "NORAD: 25544\n",
      "Name: ISS\n",
      "Alternate Names: ZARYA\n",
      "Call sign: ZARYA\n",
      "Status: alive\n",
      "Launch Date: 1998-11-20T00:00:00Z\n",
      "Decayed: None\n",
      "Operator: None\n",
      "Network: None\n",
      "Countries: RU,US\n",
      "Website: https://www.nasa.gov/mission_pages/station/main/index.html\n",
      "Frequency Violator: No\n",
      "Image: http://sonik.space/media/satellites/ISS_CA2pT3O.jpeg\n",
      "Unknown: No\n",
      "Citation: \n",
      "Created On: 2023-11-22T14:01:41.430814Z\n",
      "Created By: None\n",
      "----------------------------------------\n",
      "Transmitter UUID: eozSf5mKyzNxoascs8V4bV\n",
      "Description: Mode V/U FM - Voice Repeater\n",
      "Satellite Name: ISS\n",
      "Satellite NORAD: 25544\n",
      "Satellite Launch Date: None\n",
      "Type: Передатчик\n",
      "Status: active\n",
      "Uplink Frequency: 145990000 Hz\n",
      "Downlink Frequency: 437800000 Hz\n",
      "Uplink Mode: FM\n",
      "Downlink Mode: FM\n",
      "Frequency Inversion: No\n",
      "Baud Rate: None\n",
      "Citation: https://www.ariss.org/press-releases/september-2-2020\n",
      "Approved: Yes\n",
      "Unconfirmed: No\n",
      "Unknown: No\n",
      "Statistics:\n",
      "  Future Count: 35\n",
      "  Total Count: 957\n",
      "  Unknown Count: 34\n",
      "  Good Count: 725\n",
      "  Bad Count: 115\n",
      "  Failed Count: 83\n",
      "  Transmitter UUID: eozSf5mKyzNxoascs8V4bV\n",
      "----------------------------------------\n"
     ]
    }
   ],
   "source": [
    "def print_satellite_data(data):\n",
    "    print(f\"Satellite ID: {data.get('sat_id', 'N/A')}\")\n",
    "    print(f\"NORAD: {data.get('norad', 'N/A')}\")\n",
    "    print(f\"Name: {data.get('name', 'N/A')}\")\n",
    "    print(f\"Alternate Names: {data.get('names', 'N/A')}\")\n",
    "    print(f\"Call sign: {data.get('names', 'N/A')}\")\n",
    "    print(f\"Status: {data.get('status', 'N/A')}\")\n",
    "    print(f\"Launch Date: {data.get('launched', 'N/A')}\")\n",
    "    print(f\"Decayed: {data.get('decayed', 'N/A')}\")\n",
    "    print(f\"Operator: {data.get('operator', 'N/A')}\")\n",
    "    print(f\"Network: {data.get('network', 'N/A')}\")\n",
    "    print(f\"Countries: {data.get('countries', 'N/A')}\")\n",
    "    print(f\"Website: {data.get('website', 'N/A')}\")\n",
    "    print(f\"Frequency Violator: {'Yes' if data.get('is_frequency_violator', False) else 'No'}\")\n",
    "    print(f\"Image: {data.get('image', 'N/A')}\")\n",
    "    print(f\"Unknown: {'Yes' if data.get('unknown', False) else 'No'}\")\n",
    "    print(f\"Citation: {data.get('citation', 'N/A')}\")\n",
    "    print(f\"Created On: {data.get('created', 'N/A')}\")\n",
    "    print(f\"Created By: {data.get('created_by', 'N/A')}\")\n",
    "    print(\"-\" * 40)\n",
    "\n",
    "def print_transmitter_data(data):\n",
    "    print(f\"Transmitter UUID: {data.get('uuid', 'N/A')}\")\n",
    "    print(f\"Description: {data.get('description', 'N/A')}\")\n",
    "    print(f\"Satellite Name: {data.get('satellite_name', 'N/A')}\")\n",
    "    print(f\"Satellite NORAD: {data.get('satellite_norad', 'N/A')}\")\n",
    "    print(f\"Satellite Launch Date: {data.get('satellite_launch', 'N/A')}\")\n",
    "    print(f\"Type: {data.get('type', 'N/A')}\")\n",
    "    print(f\"Status: {data.get('status', 'N/A')}\")\n",
    "    print(f\"Uplink Frequency: {data.get('uplink_low', 'N/A')} Hz\")\n",
    "    print(f\"Downlink Frequency: {data.get('downlink_low', 'N/A')} Hz\")\n",
    "    print(f\"Uplink Mode: {data.get('uplink_mode', 'N/A')}\")\n",
    "    print(f\"Downlink Mode: {data.get('downlink_mode', 'N/A')}\")\n",
    "    print(f\"Frequency Inversion: {'Yes' if data.get('invert', False) else 'No'}\")\n",
    "    print(f\"Baud Rate: {data.get('baud', 'N/A')}\")\n",
    "    print(f\"Citation: {data.get('citation', 'N/A')}\")\n",
    "    print(f\"Approved: {'Yes' if data.get('approved', False) else 'No'}\")\n",
    "    print(f\"Unconfirmed: {'Yes' if data.get('unconfirmed', False) else 'No'}\")\n",
    "    print(f\"Unknown: {'Yes' if data.get('unknown', False) else 'No'}\")\n",
    "    print(\"Statistics:\")\n",
    "    stats = data.get('stat', {})\n",
    "    print(f\"  Future Count: {stats.get('future_count', 'N/A')}\")\n",
    "    print(f\"  Total Count: {stats.get('total_count', 'N/A')}\")\n",
    "    print(f\"  Unknown Count: {stats.get('unknown_count', 'N/A')}\")\n",
    "    print(f\"  Good Count: {stats.get('good_count', 'N/A')}\")\n",
    "    print(f\"  Bad Count: {stats.get('bad_count', 'N/A')}\")\n",
    "    print(f\"  Failed Count: {stats.get('failed_count', 'N/A')}\")\n",
    "    print(f\"  Transmitter UUID: {stats.get('transmitter_uuid', 'N/A')}\")\n",
    "    print(\"-\" * 40)\n",
    "\n",
    "sat_data = requests.get(f'https://sonik.space/api/satellites?norad_cat_id={sat_norad}').json()[0]\n",
    "print_satellite_data(sat_data)\n",
    "\n",
    "transmitter_data = requests.get(f'https://sonik.space/api/transmitters?description={transmitter}').json()[0]\n",
    "print_transmitter_data(transmitter_data)\n"
   ]
  }
 ],
 "metadata": {
  "kernelspec": {
   "display_name": "Python 3",
   "language": "python",
   "name": "python3"
  },
  "language_info": {
   "codemirror_mode": {
    "name": "ipython",
    "version": 3
   },
   "file_extension": ".py",
   "mimetype": "text/x-python",
   "name": "python",
   "nbconvert_exporter": "python",
   "pygments_lexer": "ipython3",
   "version": "3.12.6"
  }
 },
 "nbformat": 4,
 "nbformat_minor": 2
}
